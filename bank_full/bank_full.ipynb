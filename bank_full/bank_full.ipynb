{
 "cells": [
  {
   "cell_type": "markdown",
   "id": "bbf764d7",
   "metadata": {},
   "source": [
    "\n",
    "\n",
    "---\n",
    "\n",
    "## Welcome to My Project  \n",
    "\n",
    "Thank you for visiting my project.  \n",
    "In this work, I have used a **bank dataset** with the goal of predicting the target variable **`y`**.  \n",
    "\n",
    "The project consists of two main parts:  \n",
    "1. **Classical Machine Learning Approaches** – I implemented and evaluated several traditional ML algorithms to see how well they perform on this dataset.  \n",
    "2. **Artificial Neural Networks (ANNs)** – I designed and trained deep learning models to compare their performance against the classical methods.  \n",
    "\n",
    "Finally, I summarized the results and provided a clear comparison between the models, highlighting the strengths and weaknesses of each approach.  \n",
    "\n",
    "I hope this project will be useful for students, researchers, and anyone interested in machine learning and neural networks.  \n",
    "\n",
    "**Dataset Link:** [Kaggle](https://kaggle.com)  \n",
    "\n",
    "---\n"
   ]
  },
  {
   "cell_type": "markdown",
   "id": "e97dc3b1",
   "metadata": {},
   "source": [
    "import basic lib:"
   ]
  },
  {
   "cell_type": "code",
   "execution_count": 1,
   "id": "990e2227",
   "metadata": {},
   "outputs": [],
   "source": [
    "import pandas as pd \n",
    "import matplotlib.pyplot as plt \n",
    "import numpy as np \n"
   ]
  },
  {
   "cell_type": "markdown",
   "id": "f4c9cf7e",
   "metadata": {},
   "source": [
    "read the dataframe :"
   ]
  },
  {
   "cell_type": "code",
   "execution_count": 2,
   "id": "3f9858a5",
   "metadata": {},
   "outputs": [
    {
     "data": {
      "text/html": [
       "<div>\n",
       "<style scoped>\n",
       "    .dataframe tbody tr th:only-of-type {\n",
       "        vertical-align: middle;\n",
       "    }\n",
       "\n",
       "    .dataframe tbody tr th {\n",
       "        vertical-align: top;\n",
       "    }\n",
       "\n",
       "    .dataframe thead th {\n",
       "        text-align: right;\n",
       "    }\n",
       "</style>\n",
       "<table border=\"1\" class=\"dataframe\">\n",
       "  <thead>\n",
       "    <tr style=\"text-align: right;\">\n",
       "      <th></th>\n",
       "      <th>age</th>\n",
       "      <th>job</th>\n",
       "      <th>marital</th>\n",
       "      <th>education</th>\n",
       "      <th>default</th>\n",
       "      <th>balance</th>\n",
       "      <th>housing</th>\n",
       "      <th>loan</th>\n",
       "      <th>contact</th>\n",
       "      <th>day</th>\n",
       "      <th>month</th>\n",
       "      <th>duration</th>\n",
       "      <th>campaign</th>\n",
       "      <th>pdays</th>\n",
       "      <th>previous</th>\n",
       "      <th>poutcome</th>\n",
       "      <th>y</th>\n",
       "    </tr>\n",
       "  </thead>\n",
       "  <tbody>\n",
       "    <tr>\n",
       "      <th>0</th>\n",
       "      <td>58</td>\n",
       "      <td>management</td>\n",
       "      <td>married</td>\n",
       "      <td>tertiary</td>\n",
       "      <td>no</td>\n",
       "      <td>2143</td>\n",
       "      <td>yes</td>\n",
       "      <td>no</td>\n",
       "      <td>unknown</td>\n",
       "      <td>5</td>\n",
       "      <td>may</td>\n",
       "      <td>261</td>\n",
       "      <td>1</td>\n",
       "      <td>-1</td>\n",
       "      <td>0</td>\n",
       "      <td>unknown</td>\n",
       "      <td>no</td>\n",
       "    </tr>\n",
       "    <tr>\n",
       "      <th>1</th>\n",
       "      <td>44</td>\n",
       "      <td>technician</td>\n",
       "      <td>single</td>\n",
       "      <td>secondary</td>\n",
       "      <td>no</td>\n",
       "      <td>29</td>\n",
       "      <td>yes</td>\n",
       "      <td>no</td>\n",
       "      <td>unknown</td>\n",
       "      <td>5</td>\n",
       "      <td>may</td>\n",
       "      <td>151</td>\n",
       "      <td>1</td>\n",
       "      <td>-1</td>\n",
       "      <td>0</td>\n",
       "      <td>unknown</td>\n",
       "      <td>no</td>\n",
       "    </tr>\n",
       "    <tr>\n",
       "      <th>2</th>\n",
       "      <td>33</td>\n",
       "      <td>entrepreneur</td>\n",
       "      <td>married</td>\n",
       "      <td>secondary</td>\n",
       "      <td>no</td>\n",
       "      <td>2</td>\n",
       "      <td>yes</td>\n",
       "      <td>yes</td>\n",
       "      <td>unknown</td>\n",
       "      <td>5</td>\n",
       "      <td>may</td>\n",
       "      <td>76</td>\n",
       "      <td>1</td>\n",
       "      <td>-1</td>\n",
       "      <td>0</td>\n",
       "      <td>unknown</td>\n",
       "      <td>no</td>\n",
       "    </tr>\n",
       "    <tr>\n",
       "      <th>3</th>\n",
       "      <td>47</td>\n",
       "      <td>blue-collar</td>\n",
       "      <td>married</td>\n",
       "      <td>unknown</td>\n",
       "      <td>no</td>\n",
       "      <td>1506</td>\n",
       "      <td>yes</td>\n",
       "      <td>no</td>\n",
       "      <td>unknown</td>\n",
       "      <td>5</td>\n",
       "      <td>may</td>\n",
       "      <td>92</td>\n",
       "      <td>1</td>\n",
       "      <td>-1</td>\n",
       "      <td>0</td>\n",
       "      <td>unknown</td>\n",
       "      <td>no</td>\n",
       "    </tr>\n",
       "    <tr>\n",
       "      <th>4</th>\n",
       "      <td>33</td>\n",
       "      <td>unknown</td>\n",
       "      <td>single</td>\n",
       "      <td>unknown</td>\n",
       "      <td>no</td>\n",
       "      <td>1</td>\n",
       "      <td>no</td>\n",
       "      <td>no</td>\n",
       "      <td>unknown</td>\n",
       "      <td>5</td>\n",
       "      <td>may</td>\n",
       "      <td>198</td>\n",
       "      <td>1</td>\n",
       "      <td>-1</td>\n",
       "      <td>0</td>\n",
       "      <td>unknown</td>\n",
       "      <td>no</td>\n",
       "    </tr>\n",
       "  </tbody>\n",
       "</table>\n",
       "</div>"
      ],
      "text/plain": [
       "   age           job  marital  education default  balance housing loan  \\\n",
       "0   58    management  married   tertiary      no     2143     yes   no   \n",
       "1   44    technician   single  secondary      no       29     yes   no   \n",
       "2   33  entrepreneur  married  secondary      no        2     yes  yes   \n",
       "3   47   blue-collar  married    unknown      no     1506     yes   no   \n",
       "4   33       unknown   single    unknown      no        1      no   no   \n",
       "\n",
       "   contact  day month  duration  campaign  pdays  previous poutcome   y  \n",
       "0  unknown    5   may       261         1     -1         0  unknown  no  \n",
       "1  unknown    5   may       151         1     -1         0  unknown  no  \n",
       "2  unknown    5   may        76         1     -1         0  unknown  no  \n",
       "3  unknown    5   may        92         1     -1         0  unknown  no  \n",
       "4  unknown    5   may       198         1     -1         0  unknown  no  "
      ]
     },
     "execution_count": 2,
     "metadata": {},
     "output_type": "execute_result"
    }
   ],
   "source": [
    "df=pd.read_csv(r\"D:\\pyhton\\#\\project 1\\machin learning\\csv\\bank-full.csv\" , sep=\";\"  )\n",
    "df.head()"
   ]
  },
  {
   "cell_type": "markdown",
   "id": "f48b4d8a",
   "metadata": {},
   "source": [
    "look at the dataframe informations:"
   ]
  },
  {
   "cell_type": "code",
   "execution_count": 3,
   "id": "1fc87b58",
   "metadata": {},
   "outputs": [
    {
     "name": "stdout",
     "output_type": "stream",
     "text": [
      "<class 'pandas.core.frame.DataFrame'>\n",
      "RangeIndex: 45211 entries, 0 to 45210\n",
      "Data columns (total 17 columns):\n",
      " #   Column     Non-Null Count  Dtype \n",
      "---  ------     --------------  ----- \n",
      " 0   age        45211 non-null  int64 \n",
      " 1   job        45211 non-null  object\n",
      " 2   marital    45211 non-null  object\n",
      " 3   education  45211 non-null  object\n",
      " 4   default    45211 non-null  object\n",
      " 5   balance    45211 non-null  int64 \n",
      " 6   housing    45211 non-null  object\n",
      " 7   loan       45211 non-null  object\n",
      " 8   contact    45211 non-null  object\n",
      " 9   day        45211 non-null  int64 \n",
      " 10  month      45211 non-null  object\n",
      " 11  duration   45211 non-null  int64 \n",
      " 12  campaign   45211 non-null  int64 \n",
      " 13  pdays      45211 non-null  int64 \n",
      " 14  previous   45211 non-null  int64 \n",
      " 15  poutcome   45211 non-null  object\n",
      " 16  y          45211 non-null  object\n",
      "dtypes: int64(7), object(10)\n",
      "memory usage: 5.9+ MB\n"
     ]
    }
   ],
   "source": [
    "df.info()"
   ]
  },
  {
   "cell_type": "markdown",
   "id": "9ff1f3dc",
   "metadata": {},
   "source": [
    "try to delete the Outliers:"
   ]
  },
  {
   "cell_type": "markdown",
   "id": "ab74910e",
   "metadata": {},
   "source": [
    "# outliers:`z_score `"
   ]
  },
  {
   "cell_type": "code",
   "execution_count": 4,
   "id": "e799b324",
   "metadata": {},
   "outputs": [
    {
     "data": {
      "text/plain": [
       "(45211, 17)"
      ]
     },
     "execution_count": 4,
     "metadata": {},
     "output_type": "execute_result"
    }
   ],
   "source": [
    "from scipy import stats\n",
    "int_columns_df = df.select_dtypes(include=['int64'])\n",
    "threshold = 3\n",
    "mask = lambda x : x< threshold\n",
    "for c in int_columns_df.columns:\n",
    "    z_scores = np.abs(stats.zscore(df[c]))\n",
    "    df_clean = df[mask(z_scores)]\n",
    "df.shape\n"
   ]
  },
  {
   "cell_type": "markdown",
   "id": "f2b1291a",
   "metadata": {},
   "source": [
    "nothing happend so we try IsolationForest"
   ]
  },
  {
   "cell_type": "markdown",
   "id": "edca1825",
   "metadata": {},
   "source": [
    "# outliers : `IsolationForest`"
   ]
  },
  {
   "cell_type": "code",
   "execution_count": 5,
   "id": "3d34a71c",
   "metadata": {},
   "outputs": [
    {
     "data": {
      "text/html": [
       "<div>\n",
       "<style scoped>\n",
       "    .dataframe tbody tr th:only-of-type {\n",
       "        vertical-align: middle;\n",
       "    }\n",
       "\n",
       "    .dataframe tbody tr th {\n",
       "        vertical-align: top;\n",
       "    }\n",
       "\n",
       "    .dataframe thead th {\n",
       "        text-align: right;\n",
       "    }\n",
       "</style>\n",
       "<table border=\"1\" class=\"dataframe\">\n",
       "  <thead>\n",
       "    <tr style=\"text-align: right;\">\n",
       "      <th></th>\n",
       "      <th>age</th>\n",
       "      <th>job</th>\n",
       "      <th>marital</th>\n",
       "      <th>education</th>\n",
       "      <th>default</th>\n",
       "      <th>balance</th>\n",
       "      <th>housing</th>\n",
       "      <th>loan</th>\n",
       "      <th>contact</th>\n",
       "      <th>day</th>\n",
       "      <th>month</th>\n",
       "      <th>duration</th>\n",
       "      <th>campaign</th>\n",
       "      <th>pdays</th>\n",
       "      <th>previous</th>\n",
       "      <th>poutcome</th>\n",
       "      <th>y</th>\n",
       "      <th>outlier</th>\n",
       "    </tr>\n",
       "  </thead>\n",
       "  <tbody>\n",
       "    <tr>\n",
       "      <th>0</th>\n",
       "      <td>58</td>\n",
       "      <td>management</td>\n",
       "      <td>married</td>\n",
       "      <td>tertiary</td>\n",
       "      <td>no</td>\n",
       "      <td>2143</td>\n",
       "      <td>yes</td>\n",
       "      <td>no</td>\n",
       "      <td>unknown</td>\n",
       "      <td>5</td>\n",
       "      <td>may</td>\n",
       "      <td>261</td>\n",
       "      <td>1</td>\n",
       "      <td>-1</td>\n",
       "      <td>0</td>\n",
       "      <td>unknown</td>\n",
       "      <td>no</td>\n",
       "      <td>1</td>\n",
       "    </tr>\n",
       "    <tr>\n",
       "      <th>1</th>\n",
       "      <td>44</td>\n",
       "      <td>technician</td>\n",
       "      <td>single</td>\n",
       "      <td>secondary</td>\n",
       "      <td>no</td>\n",
       "      <td>29</td>\n",
       "      <td>yes</td>\n",
       "      <td>no</td>\n",
       "      <td>unknown</td>\n",
       "      <td>5</td>\n",
       "      <td>may</td>\n",
       "      <td>151</td>\n",
       "      <td>1</td>\n",
       "      <td>-1</td>\n",
       "      <td>0</td>\n",
       "      <td>unknown</td>\n",
       "      <td>no</td>\n",
       "      <td>1</td>\n",
       "    </tr>\n",
       "    <tr>\n",
       "      <th>2</th>\n",
       "      <td>33</td>\n",
       "      <td>entrepreneur</td>\n",
       "      <td>married</td>\n",
       "      <td>secondary</td>\n",
       "      <td>no</td>\n",
       "      <td>2</td>\n",
       "      <td>yes</td>\n",
       "      <td>yes</td>\n",
       "      <td>unknown</td>\n",
       "      <td>5</td>\n",
       "      <td>may</td>\n",
       "      <td>76</td>\n",
       "      <td>1</td>\n",
       "      <td>-1</td>\n",
       "      <td>0</td>\n",
       "      <td>unknown</td>\n",
       "      <td>no</td>\n",
       "      <td>1</td>\n",
       "    </tr>\n",
       "    <tr>\n",
       "      <th>3</th>\n",
       "      <td>47</td>\n",
       "      <td>blue-collar</td>\n",
       "      <td>married</td>\n",
       "      <td>unknown</td>\n",
       "      <td>no</td>\n",
       "      <td>1506</td>\n",
       "      <td>yes</td>\n",
       "      <td>no</td>\n",
       "      <td>unknown</td>\n",
       "      <td>5</td>\n",
       "      <td>may</td>\n",
       "      <td>92</td>\n",
       "      <td>1</td>\n",
       "      <td>-1</td>\n",
       "      <td>0</td>\n",
       "      <td>unknown</td>\n",
       "      <td>no</td>\n",
       "      <td>1</td>\n",
       "    </tr>\n",
       "    <tr>\n",
       "      <th>4</th>\n",
       "      <td>33</td>\n",
       "      <td>unknown</td>\n",
       "      <td>single</td>\n",
       "      <td>unknown</td>\n",
       "      <td>no</td>\n",
       "      <td>1</td>\n",
       "      <td>no</td>\n",
       "      <td>no</td>\n",
       "      <td>unknown</td>\n",
       "      <td>5</td>\n",
       "      <td>may</td>\n",
       "      <td>198</td>\n",
       "      <td>1</td>\n",
       "      <td>-1</td>\n",
       "      <td>0</td>\n",
       "      <td>unknown</td>\n",
       "      <td>no</td>\n",
       "      <td>1</td>\n",
       "    </tr>\n",
       "  </tbody>\n",
       "</table>\n",
       "</div>"
      ],
      "text/plain": [
       "   age           job  marital  education default  balance housing loan  \\\n",
       "0   58    management  married   tertiary      no     2143     yes   no   \n",
       "1   44    technician   single  secondary      no       29     yes   no   \n",
       "2   33  entrepreneur  married  secondary      no        2     yes  yes   \n",
       "3   47   blue-collar  married    unknown      no     1506     yes   no   \n",
       "4   33       unknown   single    unknown      no        1      no   no   \n",
       "\n",
       "   contact  day month  duration  campaign  pdays  previous poutcome   y  \\\n",
       "0  unknown    5   may       261         1     -1         0  unknown  no   \n",
       "1  unknown    5   may       151         1     -1         0  unknown  no   \n",
       "2  unknown    5   may        76         1     -1         0  unknown  no   \n",
       "3  unknown    5   may        92         1     -1         0  unknown  no   \n",
       "4  unknown    5   may       198         1     -1         0  unknown  no   \n",
       "\n",
       "   outlier  \n",
       "0        1  \n",
       "1        1  \n",
       "2        1  \n",
       "3        1  \n",
       "4        1  "
      ]
     },
     "execution_count": 5,
     "metadata": {},
     "output_type": "execute_result"
    }
   ],
   "source": [
    "from sklearn.ensemble import IsolationForest\n",
    "iso = IsolationForest(contamination=0.2, random_state=42)\n",
    "df['outlier'] = iso.fit_predict(df[int_columns_df.columns])\n",
    "\n",
    "# -1 = Outlier, 1 = Normal\n",
    "df_no_outlier=df[df['outlier'] == 1]\n",
    "df_no_outlier.head()"
   ]
  },
  {
   "cell_type": "markdown",
   "id": "8c56a923",
   "metadata": {},
   "source": [
    "some of the coulmns are object so need to label encoding :"
   ]
  },
  {
   "cell_type": "markdown",
   "id": "0afa3f6e",
   "metadata": {},
   "source": [
    "# labelEncoding"
   ]
  },
  {
   "cell_type": "code",
   "execution_count": 6,
   "id": "d237c100",
   "metadata": {},
   "outputs": [
    {
     "data": {
      "text/html": [
       "<div>\n",
       "<style scoped>\n",
       "    .dataframe tbody tr th:only-of-type {\n",
       "        vertical-align: middle;\n",
       "    }\n",
       "\n",
       "    .dataframe tbody tr th {\n",
       "        vertical-align: top;\n",
       "    }\n",
       "\n",
       "    .dataframe thead th {\n",
       "        text-align: right;\n",
       "    }\n",
       "</style>\n",
       "<table border=\"1\" class=\"dataframe\">\n",
       "  <thead>\n",
       "    <tr style=\"text-align: right;\">\n",
       "      <th></th>\n",
       "      <th>age</th>\n",
       "      <th>job</th>\n",
       "      <th>marital</th>\n",
       "      <th>education</th>\n",
       "      <th>default</th>\n",
       "      <th>balance</th>\n",
       "      <th>housing</th>\n",
       "      <th>loan</th>\n",
       "      <th>contact</th>\n",
       "      <th>day</th>\n",
       "      <th>month</th>\n",
       "      <th>duration</th>\n",
       "      <th>campaign</th>\n",
       "      <th>pdays</th>\n",
       "      <th>previous</th>\n",
       "      <th>poutcome</th>\n",
       "      <th>y</th>\n",
       "      <th>outlier</th>\n",
       "    </tr>\n",
       "  </thead>\n",
       "  <tbody>\n",
       "    <tr>\n",
       "      <th>0</th>\n",
       "      <td>58</td>\n",
       "      <td>4</td>\n",
       "      <td>1</td>\n",
       "      <td>2</td>\n",
       "      <td>0</td>\n",
       "      <td>2143</td>\n",
       "      <td>1</td>\n",
       "      <td>0</td>\n",
       "      <td>2</td>\n",
       "      <td>5</td>\n",
       "      <td>8</td>\n",
       "      <td>261</td>\n",
       "      <td>1</td>\n",
       "      <td>-1</td>\n",
       "      <td>0</td>\n",
       "      <td>3</td>\n",
       "      <td>0</td>\n",
       "      <td>1</td>\n",
       "    </tr>\n",
       "    <tr>\n",
       "      <th>1</th>\n",
       "      <td>44</td>\n",
       "      <td>9</td>\n",
       "      <td>2</td>\n",
       "      <td>1</td>\n",
       "      <td>0</td>\n",
       "      <td>29</td>\n",
       "      <td>1</td>\n",
       "      <td>0</td>\n",
       "      <td>2</td>\n",
       "      <td>5</td>\n",
       "      <td>8</td>\n",
       "      <td>151</td>\n",
       "      <td>1</td>\n",
       "      <td>-1</td>\n",
       "      <td>0</td>\n",
       "      <td>3</td>\n",
       "      <td>0</td>\n",
       "      <td>1</td>\n",
       "    </tr>\n",
       "    <tr>\n",
       "      <th>2</th>\n",
       "      <td>33</td>\n",
       "      <td>2</td>\n",
       "      <td>1</td>\n",
       "      <td>1</td>\n",
       "      <td>0</td>\n",
       "      <td>2</td>\n",
       "      <td>1</td>\n",
       "      <td>1</td>\n",
       "      <td>2</td>\n",
       "      <td>5</td>\n",
       "      <td>8</td>\n",
       "      <td>76</td>\n",
       "      <td>1</td>\n",
       "      <td>-1</td>\n",
       "      <td>0</td>\n",
       "      <td>3</td>\n",
       "      <td>0</td>\n",
       "      <td>1</td>\n",
       "    </tr>\n",
       "    <tr>\n",
       "      <th>3</th>\n",
       "      <td>47</td>\n",
       "      <td>1</td>\n",
       "      <td>1</td>\n",
       "      <td>3</td>\n",
       "      <td>0</td>\n",
       "      <td>1506</td>\n",
       "      <td>1</td>\n",
       "      <td>0</td>\n",
       "      <td>2</td>\n",
       "      <td>5</td>\n",
       "      <td>8</td>\n",
       "      <td>92</td>\n",
       "      <td>1</td>\n",
       "      <td>-1</td>\n",
       "      <td>0</td>\n",
       "      <td>3</td>\n",
       "      <td>0</td>\n",
       "      <td>1</td>\n",
       "    </tr>\n",
       "    <tr>\n",
       "      <th>4</th>\n",
       "      <td>33</td>\n",
       "      <td>11</td>\n",
       "      <td>2</td>\n",
       "      <td>3</td>\n",
       "      <td>0</td>\n",
       "      <td>1</td>\n",
       "      <td>0</td>\n",
       "      <td>0</td>\n",
       "      <td>2</td>\n",
       "      <td>5</td>\n",
       "      <td>8</td>\n",
       "      <td>198</td>\n",
       "      <td>1</td>\n",
       "      <td>-1</td>\n",
       "      <td>0</td>\n",
       "      <td>3</td>\n",
       "      <td>0</td>\n",
       "      <td>1</td>\n",
       "    </tr>\n",
       "  </tbody>\n",
       "</table>\n",
       "</div>"
      ],
      "text/plain": [
       "   age  job  marital  education  default  balance  housing  loan  contact  \\\n",
       "0   58    4        1          2        0     2143        1     0        2   \n",
       "1   44    9        2          1        0       29        1     0        2   \n",
       "2   33    2        1          1        0        2        1     1        2   \n",
       "3   47    1        1          3        0     1506        1     0        2   \n",
       "4   33   11        2          3        0        1        0     0        2   \n",
       "\n",
       "   day  month  duration  campaign  pdays  previous  poutcome  y  outlier  \n",
       "0    5      8       261         1     -1         0         3  0        1  \n",
       "1    5      8       151         1     -1         0         3  0        1  \n",
       "2    5      8        76         1     -1         0         3  0        1  \n",
       "3    5      8        92         1     -1         0         3  0        1  \n",
       "4    5      8       198         1     -1         0         3  0        1  "
      ]
     },
     "execution_count": 6,
     "metadata": {},
     "output_type": "execute_result"
    }
   ],
   "source": [
    "from sklearn.preprocessing import LabelEncoder\n",
    "le = LabelEncoder()\n",
    "object_columns_df = df_no_outlier.select_dtypes(include=['object']).columns\n",
    "df=df_no_outlier\n",
    "# Loop through each categorical feature and encode it\n",
    "for c in object_columns_df:\n",
    "    le.fit(df[c])  # Learn mapping from categories to integers\n",
    "    df[c] = le.fit_transform(df[c])\n",
    "df.head()"
   ]
  },
  {
   "cell_type": "markdown",
   "id": "1aba3433",
   "metadata": {},
   "source": [
    "# feature & target & train/test"
   ]
  },
  {
   "cell_type": "code",
   "execution_count": 7,
   "id": "5af4336e",
   "metadata": {},
   "outputs": [],
   "source": [
    "from sklearn.model_selection import train_test_split \n",
    "x=df.drop([\"y\",\"outlier\"], axis=1)\n",
    "y=df[\"y\"]\n",
    "X_train, X_test, y_train, y_test = train_test_split(x, y, test_size=0.2, random_state=42)\n"
   ]
  },
  {
   "cell_type": "markdown",
   "id": "657ae161",
   "metadata": {},
   "source": [
    "# StandardScaler"
   ]
  },
  {
   "cell_type": "code",
   "execution_count": 8,
   "id": "66d430d7",
   "metadata": {},
   "outputs": [],
   "source": [
    "from sklearn.preprocessing import  StandardScaler \n",
    "# Standardize features by removing mean and scaling to unit variance\n",
    "scaler = StandardScaler()\n",
    "\n",
    "# Fit the scaler on training data and transform it\n",
    "X_train = scaler.fit_transform(X_train)\n",
    "\n",
    "# Use the same scaler to transform the testing data\n",
    "X_test = scaler.transform(X_test)"
   ]
  },
  {
   "cell_type": "markdown",
   "id": "6d8c9da0",
   "metadata": {},
   "source": [
    "# data visualization "
   ]
  },
  {
   "cell_type": "code",
   "execution_count": 9,
   "id": "23851b8f",
   "metadata": {},
   "outputs": [],
   "source": [
    "import seaborn as sns\n",
    "import matplotlib.pyplot as plt\n",
    "\n",
    "\n",
    "sns.set(style=\"whitegrid\", palette=\"Set2\")"
   ]
  },
  {
   "cell_type": "code",
   "execution_count": 10,
   "id": "3a311531",
   "metadata": {},
   "outputs": [
    {
     "data": {
      "image/png": "[encoded data removed]",
      "text/plain": [
       "<Figure size 500x400 with 1 Axes>"
      ]
     },
     "metadata": {},
     "output_type": "display_data"
    }
   ],
   "source": [
    "# 1️⃣ plot by y\n",
    "plt.figure(figsize=(5,4))\n",
    "sns.countplot(data=df_no_outlier, x='y')\n",
    "plt.title('Target Variable Distribution (y)', fontsize=14)\n",
    "plt.show()"
   ]
  },
  {
   "cell_type": "markdown",
   "id": "9645e994",
   "metadata": {},
   "source": [
    "so we do not have balance in data so :"
   ]
  },
  {
   "cell_type": "code",
   "execution_count": 11,
   "id": "b4651af1",
   "metadata": {},
   "outputs": [],
   "source": [
    "from imblearn.over_sampling import SMOTE\n",
    "smote = SMOTE(random_state=42)\n",
    "X_train_sm, y_train_sm = smote.fit_resample(X_train, y_train)"
   ]
  },
  {
   "cell_type": "code",
   "execution_count": 12,
   "id": "c871d6a7",
   "metadata": {},
   "outputs": [
    {
     "data": {
      "image/png": "[encoded data removed]",
      "text/plain": [
       "<Figure size 500x400 with 1 Axes>"
      ]
     },
     "metadata": {},
     "output_type": "display_data"
    },
    {
     "name": "stdout",
     "output_type": "stream",
     "text": [
      "y\n",
      "0    26377\n",
      "1    26377\n",
      "Name: count, dtype: int64\n"
     ]
    }
   ],
   "source": [
    "# after MSOTE\n",
    "plt.figure(figsize=(5,4))\n",
    "sns.countplot(x=y_train_sm)\n",
    "plt.title('Target Distribution After SMOTE', fontsize=14)\n",
    "plt.show()\n",
    "\n",
    "\n",
    "print(y_train_sm.value_counts())\n"
   ]
  },
  {
   "cell_type": "markdown",
   "id": "7c16b2f4",
   "metadata": {},
   "source": [
    "make a figure for the age :"
   ]
  },
  {
   "cell_type": "code",
   "execution_count": 13,
   "id": "21b27002",
   "metadata": {},
   "outputs": [
    {
     "data": {
      "image/png": "[encoded data removed]",
      "text/plain": [
       "<Figure size 600x400 with 1 Axes>"
      ]
     },
     "metadata": {},
     "output_type": "display_data"
    }
   ],
   "source": [
    "\n",
    "plt.figure(figsize=(6,4))\n",
    "sns.histplot(data=df_no_outlier, x='age', kde=True, bins=30, color='skyblue')\n",
    "plt.title('Age Distribution', fontsize=14)\n",
    "plt.show()"
   ]
  },
  {
   "cell_type": "code",
   "execution_count": 14,
   "id": "6b9773a1",
   "metadata": {},
   "outputs": [
    {
     "data": {
      "image/png": "[encoded data removed]",
      "text/plain": [
       "<Figure size 1200x800 with 2 Axes>"
      ]
     },
     "metadata": {},
     "output_type": "display_data"
    }
   ],
   "source": [
    "# 3️⃣ Feature Correlation Matrix\n",
    "plt.figure(figsize=(12,8))\n",
    "corr_matrix = df.corr()\n",
    "sns.heatmap(corr_matrix, annot=False, cmap=\"coolwarm\", linewidths=0.5)\n",
    "plt.title('Feature Correlation Heatmap', fontsize=16)\n",
    "plt.show()\n"
   ]
  },
  {
   "cell_type": "markdown",
   "id": "db8dd84c",
   "metadata": {},
   "source": [
    "use **<span style=\"font-size:30px;\">RandomForest</span>** to find most important feature :"
   ]
  },
  {
   "cell_type": "code",
   "execution_count": 15,
   "id": "3db24eb4",
   "metadata": {},
   "outputs": [
    {
     "name": "stdout",
     "output_type": "stream",
     "text": [
      "      Feature  Importance\n",
      "11   duration    0.291783\n",
      "5     balance    0.124087\n",
      "0         age    0.115659\n",
      "10      month    0.105539\n",
      "9         day    0.103310\n",
      "1         job    0.055570\n",
      "12   campaign    0.039808\n",
      "3   education    0.031137\n",
      "2     marital    0.025781\n",
      "8     contact    0.024244\n",
      "6     housing    0.021745\n",
      "13      pdays    0.020743\n",
      "15   poutcome    0.020055\n",
      "7        loan    0.010631\n",
      "14   previous    0.007542\n",
      "4     default    0.002366\n"
     ]
    },
    {
     "name": "stderr",
     "output_type": "stream",
     "text": [
      "C:\\Users\\p-fr\\AppData\\Local\\Temp\\ipykernel_20456\\1411881517.py:24: FutureWarning: \n",
      "\n",
      "Passing `palette` without assigning `hue` is deprecated and will be removed in v0.14.0. Assign the `y` variable to `hue` and set `legend=False` for the same effect.\n",
      "\n",
      "  sns.barplot(data=feat_importances, x='Importance', y='Feature', palette='viridis')\n"
     ]
    },
    {
     "data": {
      "image/png": "[encoded data removed]",
      "text/plain": [
       "<Figure size 1000x600 with 1 Axes>"
      ]
     },
     "metadata": {},
     "output_type": "display_data"
    }
   ],
   "source": [
    "from sklearn.ensemble import RandomForestClassifier\n",
    "import pandas as pd\n",
    "import matplotlib.pyplot as plt\n",
    "import seaborn as sns\n",
    "\n",
    "# RandomForest\n",
    "rf_model = RandomForestClassifier(n_estimators=200, random_state=42)\n",
    "rf_model.fit(X_train, y_train)\n",
    "\n",
    "# importance :\n",
    "importances = rf_model.feature_importances_\n",
    "\n",
    "# make DataFrame \n",
    "feat_importances = pd.DataFrame({\n",
    "    'Feature': x.columns,\n",
    "    'Importance': importances\n",
    "}).sort_values(by='Importance', ascending=False)\n",
    "\n",
    "\n",
    "print(feat_importances)\n",
    "\n",
    "# plot\n",
    "plt.figure(figsize=(10,6))\n",
    "sns.barplot(data=feat_importances, x='Importance', y='Feature', palette='viridis')\n",
    "plt.title('Feature Importance from Random Forest', fontsize=16)\n",
    "plt.show()\n"
   ]
  },
  {
   "cell_type": "code",
   "execution_count": 16,
   "id": "a021af87",
   "metadata": {},
   "outputs": [
    {
     "name": "stdout",
     "output_type": "stream",
     "text": [
      "better f :  ['housing', 'contact', 'duration', 'campaign', 'previous']\n"
     ]
    }
   ],
   "source": [
    "from sklearn.feature_selection import SelectKBest, f_regression\n",
    "selector = SelectKBest(score_func=f_regression, k=5)\n",
    "X_new = selector.fit_transform(X_train, y_train)\n",
    "selected_features = x.columns[selector.get_support()]\n",
    "print(\"better f : \", selected_features.tolist())"
   ]
  },
  {
   "cell_type": "markdown",
   "id": "a952686f",
   "metadata": {},
   "source": [
    "start using **<span style=\"font-size:40px;\">GridSearchCV</span>**"
   ]
  },
  {
   "cell_type": "code",
   "execution_count": 17,
   "id": "5dd0f9ff",
   "metadata": {},
   "outputs": [],
   "source": [
    "\n",
    "from sklearn.model_selection import train_test_split, GridSearchCV\n",
    "from sklearn.preprocessing import LabelEncoder, StandardScaler\n",
    "from sklearn.ensemble import RandomForestClassifier, GradientBoostingClassifier\n",
    "from sklearn.svm import SVC\n",
    "from sklearn.linear_model import LogisticRegression\n",
    "from sklearn.neighbors import KNeighborsClassifier\n",
    "from sklearn.metrics import accuracy_score\n",
    "from imblearn.over_sampling import SMOTE\n",
    "from scipy import stats\n",
    "from sklearn.ensemble import IsolationForest\n",
    "from xgboost import XGBClassifier"
   ]
  },
  {
   "cell_type": "code",
   "execution_count": 20,
   "id": "21ede4e4",
   "metadata": {},
   "outputs": [],
   "source": [
    "models_params = {\n",
    "    \"RandomForest\": (\n",
    "        RandomForestClassifier(random_state=42),\n",
    "        {\"n_estimators\": [100, 200], \"max_depth\": [None, 10, 20]}\n",
    "    ),\n",
    "    \"XGBoost\": (\n",
    "        XGBClassifier(eval_metric='logloss', random_state=42, n_jobs=-1),\n",
    "        {\"n_estimators\": [100, 200], \"max_depth\": [3, 6], \"learning_rate\": [0.05, 0.1]}\n",
    "    ),\n",
    "    \"GradientBoosting\": (\n",
    "        GradientBoostingClassifier(random_state=42),\n",
    "        {\"n_estimators\": [100, 200], \"learning_rate\": [0.05, 0.1]}\n",
    "    )\n",
    "}"
   ]
  },
  {
   "cell_type": "code",
   "execution_count": 21,
   "id": "4c5b2bc2",
   "metadata": {},
   "outputs": [
    {
     "name": "stdout",
     "output_type": "stream",
     "text": [
      "🔍 Tuning RandomForest ...\n",
      "🔍 Tuning XGBoost ...\n",
      "🔍 Tuning GradientBoosting ...\n"
     ]
    }
   ],
   "source": [
    "results = []\n",
    "for model_name, (model, params) in models_params.items():\n",
    "    print(f\"🔍 Tuning {model_name} ...\")\n",
    "    grid = GridSearchCV(model, params, cv=3, scoring=\"accuracy\", n_jobs=-1)\n",
    "    grid.fit(X_train_sm, y_train_sm)\n",
    "    best_model = grid.best_estimator_\n",
    "    y_pred = best_model.predict(X_test)\n",
    "    acc = accuracy_score(y_test, y_pred)\n",
    "    results.append({\n",
    "        \"Model\": model_name,\n",
    "        \"Best Params\": grid.best_params_,\n",
    "        \"Test Accuracy\": acc\n",
    "    })"
   ]
  },
  {
   "cell_type": "code",
   "execution_count": 22,
   "id": "ff69bf73",
   "metadata": {},
   "outputs": [
    {
     "name": "stdout",
     "output_type": "stream",
     "text": [
      "              Model                                        Best Params  \\\n",
      "1           XGBoost  {'learning_rate': 0.1, 'max_depth': 6, 'n_esti...   \n",
      "0      RandomForest           {'max_depth': None, 'n_estimators': 200}   \n",
      "2  GradientBoosting        {'learning_rate': 0.1, 'n_estimators': 200}   \n",
      "\n",
      "   Test Accuracy  \n",
      "1       0.919270  \n",
      "0       0.915123  \n",
      "2       0.906414  \n"
     ]
    },
    {
     "name": "stderr",
     "output_type": "stream",
     "text": [
      "C:\\Users\\p-fr\\AppData\\Local\\Temp\\ipykernel_20456\\2327381735.py:8: FutureWarning: \n",
      "\n",
      "Passing `palette` without assigning `hue` is deprecated and will be removed in v0.14.0. Assign the `y` variable to `hue` and set `legend=False` for the same effect.\n",
      "\n",
      "  sns.barplot(data=results_df, x=\"Test Accuracy\", y=\"Model\", palette=\"viridis\")\n"
     ]
    },
    {
     "data": {
      "image/png": "[encoded data removed]",
      "text/plain": [
       "<Figure size 1000x600 with 1 Axes>"
      ]
     },
     "metadata": {},
     "output_type": "display_data"
    }
   ],
   "source": [
    "# ------------------------\n",
    "# 7. Results & Plot\n",
    "# ------------------------\n",
    "results_df = pd.DataFrame(results).sort_values(by=\"Test Accuracy\", ascending=False)\n",
    "print(results_df)\n",
    "\n",
    "plt.figure(figsize=(10, 6))\n",
    "sns.barplot(data=results_df, x=\"Test Accuracy\", y=\"Model\", palette=\"viridis\")\n",
    "plt.title(\"Model Performance Comparison\", fontsize=16)\n",
    "plt.xlabel(\"Accuracy\")\n",
    "plt.xlim(0, 1)\n",
    "plt.show()"
   ]
  },
  {
   "cell_type": "markdown",
   "id": "8585e6dd",
   "metadata": {},
   "source": [
    "so we choose **<span style=\"font-size:30px;\">RandomForest</span>** "
   ]
  },
  {
   "cell_type": "code",
   "execution_count": 23,
   "id": "321bcbf6",
   "metadata": {},
   "outputs": [
    {
     "name": "stdout",
     "output_type": "stream",
     "text": [
      "🎯 RandomForest Test Accuracy: 0.9151230301354714\n",
      "🔮 Sample Predictions: [0 0 0 0 1]\n",
      "✅ True Labels: [0 0 0 0 1]\n"
     ]
    }
   ],
   "source": [
    "# ------------------------\n",
    "# 8. Use RandomForest for final prediction\n",
    "# ------------------------\n",
    "\n",
    "# randomforest best pram:\n",
    "rf_params = None\n",
    "for r in results:\n",
    "    if r['Model'] == \"RandomForest\":\n",
    "        rf_params = r[\"Best Params\"]\n",
    "        break\n",
    "\n",
    "\n",
    "if rf_params:\n",
    "    final_rf = RandomForestClassifier(**rf_params, random_state=42)\n",
    "    final_rf.fit(X_train_sm, y_train_sm)\n",
    "\n",
    "   \n",
    "    y_pred_rf = final_rf.predict(X_test)\n",
    "\n",
    "    acc_rf = accuracy_score(y_test, y_pred_rf)\n",
    "    print(\"🎯 RandomForest Test Accuracy:\", acc_rf)\n",
    "\n",
    "    # new predict \n",
    "    sample_preds = final_rf.predict(X_test[:5])\n",
    "    print(\"🔮 Sample Predictions:\", sample_preds)\n",
    "    print(\"✅ True Labels:\", y_test[:5].values)\n",
    "else:\n",
    "    print(\"❌ No RandomForest parameters found!\")\n"
   ]
  },
  {
   "cell_type": "markdown",
   "id": "8ee6f95e",
   "metadata": {},
   "source": [
    "if we use **<span style=\"font-size:30px;\">intraction </span>** what happend? "
   ]
  },
  {
   "cell_type": "code",
   "execution_count": null,
   "id": "ce656764",
   "metadata": {},
   "outputs": [
    {
     "name": "stdout",
     "output_type": "stream",
     "text": [
      "🎯 New RandomForest Accuracy with Interaction Feature: 0.9153995023500138\n"
     ]
    }
   ],
   "source": [
    "# ------------------------\n",
    "# 0. use intraction \n",
    "# ------------------------\n",
    "df['duration_balance_interaction'] = df['duration'] * df['balance']\n",
    "\n",
    "# ------------------------\n",
    "# 1. make X & Y\n",
    "# ------------------------\n",
    "X = df.drop([\"y\",\"outlier\"], axis=1)\n",
    "y = df[\"y\"]\n",
    "\n",
    "X_train, X_test, y_train, y_test = train_test_split(X, y, test_size=0.2, random_state=42)\n",
    "\n",
    "# Standardize\n",
    "scaler = StandardScaler()\n",
    "X_train = scaler.fit_transform(X_train)\n",
    "X_test = scaler.transform(X_test)\n",
    "\n",
    "# Apply SMOTE\n",
    "smote = SMOTE(random_state=42)\n",
    "X_train_sm, y_train_sm = smote.fit_resample(X_train, y_train)\n",
    "\n",
    "# ------------------------\n",
    "# 2. RandomForest \n",
    "# ------------------------\n",
    "rf_best_params = {'n_estimators': 200, 'max_depth': None} \n",
    "final_rf = RandomForestClassifier(**rf_best_params, random_state=42)\n",
    "\n",
    "final_rf.fit(X_train_sm, y_train_sm)\n",
    "y_pred_rf = final_rf.predict(X_test)\n",
    "\n",
    "# ------------------------\n",
    "# 3. new accuracy_score\n",
    "# ------------------------\n",
    "acc_rf_new = accuracy_score(y_test, y_pred_rf)\n",
    "print(\"🎯 New RandomForest Accuracy with Interaction Feature:\", acc_rf_new)\n"
   ]
  },
  {
   "cell_type": "code",
   "execution_count": 25,
   "id": "8c0619e1",
   "metadata": {},
   "outputs": [
    {
     "data": {
      "text/plain": [
       "True"
      ]
     },
     "execution_count": 25,
     "metadata": {},
     "output_type": "execute_result"
    }
   ],
   "source": [
    "acc_rf_new > acc_rf\n"
   ]
  },
  {
   "cell_type": "markdown",
   "id": "c1344f10",
   "metadata": {},
   "source": [
    "this is not really good increase ....so ignore it !"
   ]
  },
  {
   "cell_type": "markdown",
   "id": "e9c87dda",
   "metadata": {},
   "source": [
    "i try to make it better and this is the result :"
   ]
  },
  {
   "cell_type": "code",
   "execution_count": 26,
   "id": "533bde70",
   "metadata": {},
   "outputs": [
    {
     "name": "stdout",
     "output_type": "stream",
     "text": [
      "Accuracy without interaction: 0.91512\n",
      "Accuracy with interaction:    0.91540\n",
      "Improvement: 0.000276\n"
     ]
    }
   ],
   "source": [
    "import pandas as pd\n",
    "import numpy as np\n",
    "import seaborn as sns\n",
    "import matplotlib.pyplot as plt\n",
    "from sklearn.model_selection import train_test_split, GridSearchCV\n",
    "from sklearn.preprocessing import LabelEncoder, StandardScaler\n",
    "from sklearn.ensemble import RandomForestClassifier, IsolationForest\n",
    "from sklearn.metrics import accuracy_score\n",
    "from imblearn.over_sampling import SMOTE\n",
    "from scipy import stats\n",
    "\n",
    "# ------------------------\n",
    "# 1. Load data\n",
    "# ------------------------\n",
    "df = pd.read_csv(r\"D:\\pyhton\\#\\project 1\\machin learning\\csv\\bank-full.csv\", sep=\";\")\n",
    "\n",
    "# ------------------------\n",
    "# 2. Remove Outliers with IsolationForest\n",
    "# ------------------------\n",
    "num_cols = df.select_dtypes(include=np.number).columns\n",
    "iso = IsolationForest(contamination=0.2, random_state=42)\n",
    "df['outlier'] = iso.fit_predict(df[num_cols])\n",
    "df = df[df['outlier'] == 1].drop(columns='outlier')\n",
    "\n",
    "# ------------------------\n",
    "# 3. Label Encoding\n",
    "# ------------------------\n",
    "le = LabelEncoder()\n",
    "for c in df.select_dtypes(include='object'):\n",
    "    df[c] = le.fit_transform(df[c])\n",
    "\n",
    "# ------------------------\n",
    "# 4. Function for modeling\n",
    "# ------------------------\n",
    "def train_model(data, add_interaction=False):\n",
    "    X = data.copy()\n",
    "    y = X.pop(\"y\")\n",
    "    \n",
    "    # Add interaction feature if needed\n",
    "    if add_interaction:\n",
    "        X['duration_balance_interaction'] = X['duration'] * X['balance']\n",
    "    \n",
    "    X_train, X_test, y_train, y_test = train_test_split(X, y, test_size=0.2, random_state=42)\n",
    "    \n",
    "    # Scale\n",
    "    scaler = StandardScaler()\n",
    "    X_train = scaler.fit_transform(X_train)\n",
    "    X_test = scaler.transform(X_test)\n",
    "    \n",
    "    # SMOTE\n",
    "    smote = SMOTE(random_state=42)\n",
    "    X_train, y_train = smote.fit_resample(X_train, y_train)\n",
    "    \n",
    "    # Model\n",
    "    rf = RandomForestClassifier(n_estimators=200, max_depth=None, random_state=42)\n",
    "    rf.fit(X_train, y_train)\n",
    "    acc = accuracy_score(y_test, rf.predict(X_test))\n",
    "    return acc\n",
    "\n",
    "# ------------------------\n",
    "# 5. Compare without & with interaction\n",
    "# ------------------------\n",
    "acc_no_inter = train_model(df, add_interaction=False)\n",
    "acc_with_inter = train_model(df, add_interaction=True)\n",
    "\n",
    "print(f\"Accuracy without interaction: {acc_no_inter:.5f}\")\n",
    "print(f\"Accuracy with interaction:    {acc_with_inter:.5f}\")\n",
    "print(f\"Improvement: {acc_with_inter - acc_no_inter:.6f}\")"
   ]
  },
  {
   "cell_type": "markdown",
   "id": "4cbaf34f",
   "metadata": {},
   "source": [
    "# neural network"
   ]
  },
  {
   "cell_type": "markdown",
   "id": "2d31bd97",
   "metadata": {},
   "source": [
    "now let's try to use a neural network to compare it with classic ML:"
   ]
  },
  {
   "cell_type": "markdown",
   "id": "06cc6d9a",
   "metadata": {},
   "source": [
    "first importations:"
   ]
  },
  {
   "cell_type": "code",
   "execution_count": 28,
   "id": "eafcf418",
   "metadata": {},
   "outputs": [],
   "source": [
    "\n",
    "import tensorflow as tf\n"
   ]
  },
  {
   "cell_type": "code",
   "execution_count": 33,
   "id": "a588d0a1",
   "metadata": {},
   "outputs": [],
   "source": [
    "model = tf.keras.Sequential([\n",
    "    tf.keras.layers.Input(shape=(17,)),              # input features\n",
    "    tf.keras.layers.Dense(64, activation='relu'),\n",
    "    tf.keras.layers.Dense(32, activation='relu'),\n",
    "    tf.keras.layers.Dense(16, activation='relu'),\n",
    "    tf.keras.layers.Dense(8, activation='relu'),\n",
    "    tf.keras.layers.Dense(3, activation='softmax')  # output: 3 classes\n",
    "])"
   ]
  },
  {
   "cell_type": "markdown",
   "id": "b1ea09ec",
   "metadata": {},
   "source": [
    "### compile and train"
   ]
  },
  {
   "cell_type": "code",
   "execution_count": 37,
   "id": "3354a6dc",
   "metadata": {},
   "outputs": [
    {
     "name": "stdout",
     "output_type": "stream",
     "text": [
      "Epoch 1/20\n",
      "\u001b[1m724/724\u001b[0m \u001b[32m━━━━━━━━━━━━━━━━━━━━\u001b[0m\u001b[37m\u001b[0m \u001b[1m7s\u001b[0m 5ms/step - accuracy: 0.9330 - loss: 0.1576 - val_accuracy: 0.9298 - val_loss: 0.1638\n",
      "Epoch 2/20\n",
      "\u001b[1m724/724\u001b[0m \u001b[32m━━━━━━━━━━━━━━━━━━━━\u001b[0m\u001b[37m\u001b[0m \u001b[1m3s\u001b[0m 4ms/step - accuracy: 0.9339 - loss: 0.1538 - val_accuracy: 0.9323 - val_loss: 0.1642\n",
      "Epoch 3/20\n",
      "\u001b[1m724/724\u001b[0m \u001b[32m━━━━━━━━━━━━━━━━━━━━\u001b[0m\u001b[37m\u001b[0m \u001b[1m3s\u001b[0m 5ms/step - accuracy: 0.9345 - loss: 0.1527 - val_accuracy: 0.9279 - val_loss: 0.1680\n",
      "Epoch 4/20\n",
      "\u001b[1m724/724\u001b[0m \u001b[32m━━━━━━━━━━━━━━━━━━━━\u001b[0m\u001b[37m\u001b[0m \u001b[1m3s\u001b[0m 4ms/step - accuracy: 0.9353 - loss: 0.1504 - val_accuracy: 0.9300 - val_loss: 0.1657\n"
     ]
    }
   ],
   "source": [
    "from tensorflow.keras.callbacks import EarlyStopping\n",
    "model.compile(\n",
    "    optimizer='adam',\n",
    "    loss='sparse_categorical_crossentropy',\n",
    "    metrics=['accuracy']\n",
    ")\n",
    "# EarlyStopping callback\n",
    "early_stop = EarlyStopping(\n",
    "    monitor='val_loss',         # Watch the validation loss\n",
    "    patience=3,                 # Wait 3 epochs with no improvement\n",
    "    restore_best_weights=True   # Roll back to the best weights\n",
    ")\n",
    "history = model.fit(\n",
    "    X_train, y_train,\n",
    "    validation_split=0.2,\n",
    "    epochs=20,\n",
    "    callbacks=[early_stop],\n",
    "    verbose=1\n",
    ")"
   ]
  },
  {
   "cell_type": "markdown",
   "id": "69130b2e",
   "metadata": {},
   "source": [
    "get acc:"
   ]
  },
  {
   "cell_type": "code",
   "execution_count": 38,
   "id": "ae01ff3f",
   "metadata": {},
   "outputs": [
    {
     "name": "stdout",
     "output_type": "stream",
     "text": [
      "\u001b[1m227/227\u001b[0m \u001b[32m━━━━━━━━━━━━━━━━━━━━\u001b[0m\u001b[37m\u001b[0m \u001b[1m1s\u001b[0m 5ms/step - accuracy: 0.9176 - loss: 0.1992\n",
      "Test Accuracy: 0.9176\n"
     ]
    }
   ],
   "source": [
    "loss, acc = model.evaluate(X_test, y_test)\n",
    "print(f\"Test Accuracy: {acc:.4f}\")"
   ]
  },
  {
   "cell_type": "markdown",
   "id": "859e6ece",
   "metadata": {},
   "source": [
    "now lets try it on tensorflow dataset :"
   ]
  },
  {
   "cell_type": "markdown",
   "id": "49087aba",
   "metadata": {},
   "source": [
    "make the pandas dataset to a tensoflow one :"
   ]
  },
  {
   "cell_type": "code",
   "execution_count": 39,
   "id": "b52764b2",
   "metadata": {},
   "outputs": [],
   "source": [
    "train_dataset = (\n",
    "    tf.data.Dataset.from_tensor_slices((X_train, y_train))\n",
    "    .shuffle(len(X_train))\n",
    "    .batch(16)\n",
    "    .prefetch(tf.data.AUTOTUNE)\n",
    ")"
   ]
  },
  {
   "cell_type": "code",
   "execution_count": 40,
   "id": "a0fd30d2",
   "metadata": {},
   "outputs": [],
   "source": [
    "test_dataset = (\n",
    "    tf.data.Dataset.from_tensor_slices((X_test, y_test))\n",
    "    .batch(16)\n",
    "    .prefetch(tf.data.AUTOTUNE)\n",
    ")"
   ]
  },
  {
   "cell_type": "code",
   "execution_count": 42,
   "id": "b52759f5",
   "metadata": {},
   "outputs": [
    {
     "name": "stdout",
     "output_type": "stream",
     "text": [
      "Epoch 1/20\n",
      "\u001b[1m1809/1809\u001b[0m \u001b[32m━━━━━━━━━━━━━━━━━━━━\u001b[0m\u001b[37m\u001b[0m \u001b[1m10s\u001b[0m 5ms/step - accuracy: 0.9306 - loss: 0.1637 - val_accuracy: 0.9198 - val_loss: 0.1988\n",
      "Epoch 2/20\n",
      "\u001b[1m1809/1809\u001b[0m \u001b[32m━━━━━━━━━━━━━━━━━━━━\u001b[0m\u001b[37m\u001b[0m \u001b[1m8s\u001b[0m 4ms/step - accuracy: 0.9318 - loss: 0.1599 - val_accuracy: 0.9175 - val_loss: 0.1995\n",
      "Epoch 3/20\n",
      "\u001b[1m1809/1809\u001b[0m \u001b[32m━━━━━━━━━━━━━━━━━━━━\u001b[0m\u001b[37m\u001b[0m \u001b[1m8s\u001b[0m 4ms/step - accuracy: 0.9331 - loss: 0.1582 - val_accuracy: 0.9142 - val_loss: 0.2046\n"
     ]
    }
   ],
   "source": [
    "\n",
    "history = model.fit(\n",
    "    train_dataset,validation_data=test_dataset,\n",
    "    epochs=20,\n",
    "    callbacks=[early_stop],\n",
    "    verbose=1\n",
    ")"
   ]
  },
  {
   "cell_type": "code",
   "execution_count": 43,
   "id": "99a219b3",
   "metadata": {},
   "outputs": [
    {
     "name": "stdout",
     "output_type": "stream",
     "text": [
      "\u001b[1m453/453\u001b[0m \u001b[32m━━━━━━━━━━━━━━━━━━━━\u001b[0m\u001b[37m\u001b[0m \u001b[1m2s\u001b[0m 4ms/step - accuracy: 0.9198 - loss: 0.1988\n",
      "Test Accuracy: 0.9198\n"
     ]
    }
   ],
   "source": [
    "loss, acc = model.evaluate(test_dataset)\n",
    "print(f\"Test Accuracy: {acc:.4f}\")"
   ]
  },
  {
   "cell_type": "markdown",
   "id": "9d64e84e",
   "metadata": {},
   "source": [
    "it can increase the acc a little ! "
   ]
  },
  {
   "cell_type": "code",
   "execution_count": 48,
   "id": "c686c7a6",
   "metadata": {},
   "outputs": [
    {
     "name": "stdout",
     "output_type": "stream",
     "text": [
      "0.9198230504989624\n"
     ]
    }
   ],
   "source": [
    "acc_lst=[acc_no_inter , acc , acc_with_inter]\n",
    "\n",
    "print(max (acc_lst))"
   ]
  },
  {
   "cell_type": "markdown",
   "id": "6a568660",
   "metadata": {},
   "source": [
    "so the best acc is for:\n",
    "### `neural network`"
   ]
  },
  {
   "cell_type": "markdown",
   "id": "80ee57a7",
   "metadata": {},
   "source": [
    "# save "
   ]
  },
  {
   "cell_type": "code",
   "execution_count": null,
   "id": "6a3cbfc3",
   "metadata": {},
   "outputs": [],
   "source": [
    "from sklearn.ensemble import RandomForestClassifier\n",
    "from sklearn.model_selection import train_test_split\n",
    "from sklearn.preprocessing import StandardScaler\n",
    "from imblearn.over_sampling import SMOTE\n",
    "import joblib\n",
    "from scipy.stats import ttest_rel\n",
    "import numpy as np\n",
    "\n",
    "# save \n",
    "joblib.dump(acc_with_inter, \"final_rf_model_with_interaction.joblib\")\n",
    "\n",
    "\n",
    "\n",
    "print(\"✅ Model and t-test results saved successfully!\")"
   ]
  }
 ],
 "metadata": {
  "kernelspec": {
   "display_name": "Python 3",
   "language": "python",
   "name": "python3"
  },
  "language_info": {
   "codemirror_mode": {
    "name": "ipython",
    "version": 3
   },
   "file_extension": ".py",
   "mimetype": "text/x-python",
   "name": "python",
   "nbconvert_exporter": "python",
   "pygments_lexer": "ipython3",
   "version": "3.13.5"
  }
 },
 "nbformat": 4,
 "nbformat_minor": 5
}
